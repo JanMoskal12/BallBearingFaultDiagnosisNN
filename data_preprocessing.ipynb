{
 "cells": [
  {
   "cell_type": "markdown",
   "metadata": {},
   "source": [
    "# CWRU Bearing Data - Data Preprocessing"
   ]
  },
  {
   "cell_type": "code",
   "execution_count": 31,
   "metadata": {},
   "outputs": [],
   "source": [
    "import os\n",
    "import scipy.io\n",
    "import numpy as np\n",
    "import pandas as pd\n",
    "import matplotlib.pyplot as plt\n",
    "import seaborn as sns"
   ]
  },
  {
   "cell_type": "markdown",
   "metadata": {},
   "source": [
    "## Example"
   ]
  },
  {
   "cell_type": "code",
   "execution_count": 32,
   "metadata": {},
   "outputs": [
    {
     "name": "stdout",
     "output_type": "stream",
     "text": [
      ".\\Data\\NormalBaselineData\\Normal_0.mat\n",
      ".\\Data\\NormalBaselineData\\Normal_1.mat\n",
      ".\\Data\\NormalBaselineData\\Normal_2.mat\n",
      ".\\Data\\NormalBaselineData\\Normal_3.mat\n"
     ]
    }
   ],
   "source": [
    "for root, dirs, files in os.walk('.\\\\Data\\\\NormalBaselineData', topdown=False):\n",
    "    for name in files:\n",
    "        path = os.path.join(root, name)\n",
    "        print(path)"
   ]
  },
  {
   "cell_type": "code",
   "execution_count": 33,
   "metadata": {},
   "outputs": [
    {
     "name": "stdout",
     "output_type": "stream",
     "text": [
      "dict_keys(['__header__', '__version__', '__globals__', 'X100_DE_time', 'X100_FE_time', 'X100RPM'])\n"
     ]
    }
   ],
   "source": [
    "path = r'.\\\\Data\\\\NormalBaselineData\\\\Normal_3.mat'\n",
    "mat = scipy.io.loadmat(path)\n",
    "\n",
    "print(mat.keys())"
   ]
  },
  {
   "cell_type": "code",
   "execution_count": 34,
   "metadata": {},
   "outputs": [
    {
     "data": {
      "text/plain": [
       "dict_items([('__header__', b'MATLAB 5.0 MAT-file, Platform: PCWIN, Created on: Fri Jan 28 11:25:48 2000'), ('__version__', '1.0'), ('__globals__', []), ('X100_DE_time', array([[ 0.01460308],\n",
       "       [ 0.05444862],\n",
       "       [ 0.10764554],\n",
       "       ...,\n",
       "       [-0.02357354],\n",
       "       [ 0.00521538],\n",
       "       [ 0.04777292]])), ('X100_FE_time', array([[ 0.19292182],\n",
       "       [ 0.16436364],\n",
       "       [ 0.09081091],\n",
       "       ...,\n",
       "       [ 0.10930182],\n",
       "       [ 0.05218545],\n",
       "       [-0.00452   ]])), ('X100RPM', array([[1725]], dtype=uint16))])"
      ]
     },
     "execution_count": 34,
     "metadata": {},
     "output_type": "execute_result"
    }
   ],
   "source": [
    "mat.items()"
   ]
  },
  {
   "cell_type": "code",
   "execution_count": 35,
   "metadata": {},
   "outputs": [
    {
     "name": "stdout",
     "output_type": "stream",
     "text": [
      "X100_DE_time\n"
     ]
    }
   ],
   "source": [
    "key_name = list(mat.keys())[3]\n",
    "print(key_name)"
   ]
  },
  {
   "cell_type": "code",
   "execution_count": 36,
   "metadata": {},
   "outputs": [
    {
     "name": "stdout",
     "output_type": "stream",
     "text": [
      "(485643, 1)\n"
     ]
    }
   ],
   "source": [
    "DE_data = mat[key_name]\n",
    "print(DE_data.shape)"
   ]
  },
  {
   "cell_type": "code",
   "execution_count": 37,
   "metadata": {},
   "outputs": [
    {
     "name": "stdout",
     "output_type": "stream",
     "text": [
      "(485643, 1)\n"
     ]
    }
   ],
   "source": [
    "fault = np.full((len(DE_data), 1), name[:-4])\n",
    "print(fault.shape)"
   ]
  },
  {
   "cell_type": "code",
   "execution_count": 38,
   "metadata": {},
   "outputs": [
    {
     "name": "stdout",
     "output_type": "stream",
     "text": [
      "(485643, 2)\n"
     ]
    }
   ],
   "source": [
    "df_temp = pd.DataFrame({'DE_data': np.ravel(DE_data), 'fault': np.ravel(fault)})\n",
    "print(df_temp.shape)"
   ]
  },
  {
   "cell_type": "code",
   "execution_count": null,
   "metadata": {},
   "outputs": [
    {
     "data": {
      "text/html": [
       "<div>\n",
       "<style scoped>\n",
       "    .dataframe tbody tr th:only-of-type {\n",
       "        vertical-align: middle;\n",
       "    }\n",
       "\n",
       "    .dataframe tbody tr th {\n",
       "        vertical-align: top;\n",
       "    }\n",
       "\n",
       "    .dataframe thead th {\n",
       "        text-align: right;\n",
       "    }\n",
       "</style>\n",
       "<table border=\"1\" class=\"dataframe\">\n",
       "  <thead>\n",
       "    <tr style=\"text-align: right;\">\n",
       "      <th></th>\n",
       "      <th>DE_data</th>\n",
       "      <th>fault</th>\n",
       "    </tr>\n",
       "  </thead>\n",
       "  <tbody>\n",
       "    <tr>\n",
       "      <th>0</th>\n",
       "      <td>0.014603</td>\n",
       "      <td>Normal_3</td>\n",
       "    </tr>\n",
       "    <tr>\n",
       "      <th>1</th>\n",
       "      <td>0.054449</td>\n",
       "      <td>Normal_3</td>\n",
       "    </tr>\n",
       "    <tr>\n",
       "      <th>2</th>\n",
       "      <td>0.107646</td>\n",
       "      <td>Normal_3</td>\n",
       "    </tr>\n",
       "    <tr>\n",
       "      <th>3</th>\n",
       "      <td>0.133722</td>\n",
       "      <td>Normal_3</td>\n",
       "    </tr>\n",
       "    <tr>\n",
       "      <th>4</th>\n",
       "      <td>0.112652</td>\n",
       "      <td>Normal_3</td>\n",
       "    </tr>\n",
       "  </tbody>\n",
       "</table>\n",
       "</div>"
      ],
      "text/plain": [
       "    DE_data     fault\n",
       "0  0.014603  Normal_3\n",
       "1  0.054449  Normal_3\n",
       "2  0.107646  Normal_3\n",
       "3  0.133722  Normal_3\n",
       "4  0.112652  Normal_3"
      ]
     },
     "execution_count": 40,
     "metadata": {},
     "output_type": "execute_result"
    }
   ],
   "source": [
    "df_temp.head()"
   ]
  },
  {
   "cell_type": "code",
   "execution_count": null,
   "metadata": {},
   "outputs": [
    {
     "data": {
      "image/png": "[encoded data removed]",
      "text/plain": [
       "<Figure size 1000x300 with 1 Axes>"
      ]
     },
     "metadata": {},
     "output_type": "display_data"
    }
   ],
   "source": [
    "plt.figure(figsize=(10, 3))\n",
    "plt.plot(df_temp['DE_data'], label=name[:-4])\n",
    "plt.title('Normal Drive End Data')\n",
    "plt.show()"
   ]
  }
 ],
 "metadata": {
  "kernelspec": {
   "display_name": "CWRU",
   "language": "python",
   "name": "python3"
  },
  "language_info": {
   "codemirror_mode": {
    "name": "ipython",
    "version": 3
   },
   "file_extension": ".py",
   "mimetype": "text/x-python",
   "name": "python",
   "nbconvert_exporter": "python",
   "pygments_lexer": "ipython3",
   "version": "3.10.13"
  }
 },
 "nbformat": 4,
 "nbformat_minor": 2
}
